{
 "cells": [
  {
   "cell_type": "code",
   "execution_count": 4,
   "id": "ddd10410-83cf-4abc-89a7-9648551358cf",
   "metadata": {},
   "outputs": [
    {
     "name": "stdout",
     "output_type": "stream",
     "text": [
      "/Users/armin\n"
     ]
    }
   ],
   "source": [
    "!pwd"
   ]
  },
  {
   "cell_type": "code",
   "execution_count": 6,
   "id": "07a125e6-f69d-42c1-bc58-ff7e55bea83f",
   "metadata": {},
   "outputs": [
    {
     "name": "stdout",
     "output_type": "stream",
     "text": [
      "(91, 5)\n",
      "                 age    height  shoesize  semester  hairlength\n",
      "age         1.000000 -0.052634  0.056232  0.807226   -0.147152\n",
      "height     -0.052634  1.000000  0.798582 -0.048039   -0.442962\n",
      "shoesize    0.056232  0.798582  1.000000  0.070895   -0.554323\n",
      "semester    0.807226 -0.048039  0.070895  1.000000   -0.118606\n",
      "hairlength -0.147152 -0.442962 -0.554323 -0.118606    1.000000\n"
     ]
    },
    {
     "data": {
      "text/html": [
       "<div>\n",
       "<style scoped>\n",
       "    .dataframe tbody tr th:only-of-type {\n",
       "        vertical-align: middle;\n",
       "    }\n",
       "\n",
       "    .dataframe tbody tr th {\n",
       "        vertical-align: top;\n",
       "    }\n",
       "\n",
       "    .dataframe thead th {\n",
       "        text-align: right;\n",
       "    }\n",
       "</style>\n",
       "<table border=\"1\" class=\"dataframe\">\n",
       "  <thead>\n",
       "    <tr style=\"text-align: right;\">\n",
       "      <th></th>\n",
       "      <th>age</th>\n",
       "      <th>height</th>\n",
       "      <th>shoesize</th>\n",
       "      <th>semester</th>\n",
       "      <th>hairlength</th>\n",
       "    </tr>\n",
       "    <tr>\n",
       "      <th>number</th>\n",
       "      <th></th>\n",
       "      <th></th>\n",
       "      <th></th>\n",
       "      <th></th>\n",
       "      <th></th>\n",
       "    </tr>\n",
       "  </thead>\n",
       "  <tbody>\n",
       "    <tr>\n",
       "      <th>1</th>\n",
       "      <td>21</td>\n",
       "      <td>178</td>\n",
       "      <td>40</td>\n",
       "      <td>2</td>\n",
       "      <td>50</td>\n",
       "    </tr>\n",
       "    <tr>\n",
       "      <th>2</th>\n",
       "      <td>22</td>\n",
       "      <td>170</td>\n",
       "      <td>41</td>\n",
       "      <td>8</td>\n",
       "      <td>15</td>\n",
       "    </tr>\n",
       "    <tr>\n",
       "      <th>3</th>\n",
       "      <td>19</td>\n",
       "      <td>186</td>\n",
       "      <td>45</td>\n",
       "      <td>2</td>\n",
       "      <td>8</td>\n",
       "    </tr>\n",
       "    <tr>\n",
       "      <th>5</th>\n",
       "      <td>20</td>\n",
       "      <td>185</td>\n",
       "      <td>46</td>\n",
       "      <td>2</td>\n",
       "      <td>30</td>\n",
       "    </tr>\n",
       "    <tr>\n",
       "      <th>6</th>\n",
       "      <td>19</td>\n",
       "      <td>158</td>\n",
       "      <td>37</td>\n",
       "      <td>2</td>\n",
       "      <td>45</td>\n",
       "    </tr>\n",
       "    <tr>\n",
       "      <th>...</th>\n",
       "      <td>...</td>\n",
       "      <td>...</td>\n",
       "      <td>...</td>\n",
       "      <td>...</td>\n",
       "      <td>...</td>\n",
       "    </tr>\n",
       "    <tr>\n",
       "      <th>98</th>\n",
       "      <td>24</td>\n",
       "      <td>164</td>\n",
       "      <td>37</td>\n",
       "      <td>9</td>\n",
       "      <td>25</td>\n",
       "    </tr>\n",
       "    <tr>\n",
       "      <th>99</th>\n",
       "      <td>20</td>\n",
       "      <td>189</td>\n",
       "      <td>44</td>\n",
       "      <td>2</td>\n",
       "      <td>5</td>\n",
       "    </tr>\n",
       "    <tr>\n",
       "      <th>100</th>\n",
       "      <td>21</td>\n",
       "      <td>170</td>\n",
       "      <td>43</td>\n",
       "      <td>2</td>\n",
       "      <td>3</td>\n",
       "    </tr>\n",
       "    <tr>\n",
       "      <th>101</th>\n",
       "      <td>20</td>\n",
       "      <td>170</td>\n",
       "      <td>38</td>\n",
       "      <td>2</td>\n",
       "      <td>40</td>\n",
       "    </tr>\n",
       "    <tr>\n",
       "      <th>102</th>\n",
       "      <td>20</td>\n",
       "      <td>180</td>\n",
       "      <td>41</td>\n",
       "      <td>2</td>\n",
       "      <td>35</td>\n",
       "    </tr>\n",
       "  </tbody>\n",
       "</table>\n",
       "<p>91 rows × 5 columns</p>\n",
       "</div>"
      ],
      "text/plain": [
       "        age  height  shoesize  semester  hairlength\n",
       "number                                             \n",
       "1        21     178        40         2          50\n",
       "2        22     170        41         8          15\n",
       "3        19     186        45         2           8\n",
       "5        20     185        46         2          30\n",
       "6        19     158        37         2          45\n",
       "...     ...     ...       ...       ...         ...\n",
       "98       24     164        37         9          25\n",
       "99       20     189        44         2           5\n",
       "100      21     170        43         2           3\n",
       "101      20     170        38         2          40\n",
       "102      20     180        41         2          35\n",
       "\n",
       "[91 rows x 5 columns]"
      ]
     },
     "execution_count": 6,
     "metadata": {},
     "output_type": "execute_result"
    }
   ],
   "source": [
    "# Import libraries\n",
    "## Basic libs\n",
    "import pandas as pd\n",
    "import numpy as np\n",
    "import warnings\n",
    "## Building Model\n",
    "from sklearn import linear_model\n",
    "from sklearn.metrics import mean_squared_error\n",
    "## Data Visualization\n",
    "import seaborn as sns\n",
    "import matplotlib.pyplot as plt\n",
    "\n",
    "# Load dataset\n",
    "df_iai24 = pd.read_csv('Downloads/iai24_data_cleaned.csv', index_col='number', sep=';')\n",
    "print(df_iai24.shape)\n",
    "print(df_iai24.corr())\n",
    "df_iai24"
   ]
  },
  {
   "cell_type": "code",
   "execution_count": 34,
   "id": "564b3d52-7b70-4ee2-a4f9-91bb5a6ce2ca",
   "metadata": {},
   "outputs": [
    {
     "data": {
      "image/png": "[encoded data removed]",
      "text/plain": [
       "<Figure size 1000x600 with 1 Axes>"
      ]
     },
     "metadata": {},
     "output_type": "display_data"
    }
   ],
   "source": [
    "import numpy as np\n",
    "from sklearn.linear_model import LinearRegression\n",
    "\n",
    "\n",
    "x = df_iai24['age'].values.reshape(1,-1)\n",
    "y = df_iai24['shoesize']\n",
    "\n",
    "\n",
    "from sklearn.preprocessing import PolynomialFeatures\n",
    "poly = PolynomialFeatures(degree=4, include_bias=False)\n",
    "poly_features = poly.fit_transform(x.reshape(-1, 1))\n",
    "\n",
    "model = LinearRegression()\n",
    "model.fit(poly_features, y)\n",
    "\n",
    "import matplotlib.pyplot as plt\n",
    "plt.figure(figsize=(10,6))\n",
    "\n",
    "x2 = np.linspace(0,60)\n",
    "y2 = model.predict(poly.fit_transform(x2.reshape(-1, 1)))\n",
    "\n",
    "plt.title(\"Result\")\n",
    "plt.scatter(x,y)\n",
    "plt.plot(x2, y2, c=\"red\")\n",
    "plt.show()"
   ]
  },
  {
   "cell_type": "markdown",
   "id": "38f82c2e-0caf-4ca6-8fba-42cb03110db4",
   "metadata": {},
   "source": [
    "## why I should consider degree as 4? \n",
    "\n",
    "**The more HSE desire to zero the more accurate Regression is**   with the given degree it can be seen that each data is standing on the curve hence, MSE will be close to 0 but with smaller degrees like 3 there will be some data that do not stand on curve so the MSE will be minimum with degree >= 4   \n"
   ]
  },
  {
   "cell_type": "code",
   "execution_count": null,
   "id": "9d2e7132-f7de-4281-9ca7-bc2068c4f580",
   "metadata": {},
   "outputs": [],
   "source": []
  }
 ],
 "metadata": {
  "kernelspec": {
   "display_name": "Python 3 (ipykernel)",
   "language": "python",
   "name": "python3"
  },
  "language_info": {
   "codemirror_mode": {
    "name": "ipython",
    "version": 3
   },
   "file_extension": ".py",
   "mimetype": "text/x-python",
   "name": "python",
   "nbconvert_exporter": "python",
   "pygments_lexer": "ipython3",
   "version": "3.11.7"
  }
 },
 "nbformat": 4,
 "nbformat_minor": 5
}
